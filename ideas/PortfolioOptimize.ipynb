{
 "cells": [
  {
   "cell_type": "code",
   "execution_count": 84,
   "metadata": {},
   "outputs": [],
   "source": [
    "import pandas as pd\n",
    "import yfinance as yf"
   ]
  },
  {
   "cell_type": "code",
   "execution_count": 85,
   "metadata": {},
   "outputs": [
    {
     "data": {
      "text/html": [
       "<div>\n",
       "<style scoped>\n",
       "    .dataframe tbody tr th:only-of-type {\n",
       "        vertical-align: middle;\n",
       "    }\n",
       "\n",
       "    .dataframe tbody tr th {\n",
       "        vertical-align: top;\n",
       "    }\n",
       "\n",
       "    .dataframe thead th {\n",
       "        text-align: right;\n",
       "    }\n",
       "</style>\n",
       "<table border=\"1\" class=\"dataframe\">\n",
       "  <thead>\n",
       "    <tr style=\"text-align: right;\">\n",
       "      <th></th>\n",
       "      <th>Stock</th>\n",
       "      <th>Bond</th>\n",
       "      <th>Commodity</th>\n",
       "    </tr>\n",
       "  </thead>\n",
       "  <tbody>\n",
       "    <tr>\n",
       "      <th>count</th>\n",
       "      <td>34.000000</td>\n",
       "      <td>34.000000</td>\n",
       "      <td>34.000000</td>\n",
       "    </tr>\n",
       "    <tr>\n",
       "      <th>mean</th>\n",
       "      <td>0.347873</td>\n",
       "      <td>0.289717</td>\n",
       "      <td>0.152026</td>\n",
       "    </tr>\n",
       "    <tr>\n",
       "      <th>std</th>\n",
       "      <td>0.628591</td>\n",
       "      <td>0.419614</td>\n",
       "      <td>0.290545</td>\n",
       "    </tr>\n",
       "    <tr>\n",
       "      <th>min</th>\n",
       "      <td>-0.583132</td>\n",
       "      <td>-0.465781</td>\n",
       "      <td>-0.198816</td>\n",
       "    </tr>\n",
       "    <tr>\n",
       "      <th>25%</th>\n",
       "      <td>-0.053124</td>\n",
       "      <td>0.064516</td>\n",
       "      <td>-0.010554</td>\n",
       "    </tr>\n",
       "    <tr>\n",
       "      <th>50%</th>\n",
       "      <td>0.262294</td>\n",
       "      <td>0.147034</td>\n",
       "      <td>0.089070</td>\n",
       "    </tr>\n",
       "    <tr>\n",
       "      <th>75%</th>\n",
       "      <td>0.667720</td>\n",
       "      <td>0.492471</td>\n",
       "      <td>0.203776</td>\n",
       "    </tr>\n",
       "    <tr>\n",
       "      <th>max</th>\n",
       "      <td>2.408689</td>\n",
       "      <td>1.346043</td>\n",
       "      <td>1.171287</td>\n",
       "    </tr>\n",
       "  </tbody>\n",
       "</table>\n",
       "</div>"
      ],
      "text/plain": [
       "           Stock       Bond  Commodity\n",
       "count  34.000000  34.000000  34.000000\n",
       "mean    0.347873   0.289717   0.152026\n",
       "std     0.628591   0.419614   0.290545\n",
       "min    -0.583132  -0.465781  -0.198816\n",
       "25%    -0.053124   0.064516  -0.010554\n",
       "50%     0.262294   0.147034   0.089070\n",
       "75%     0.667720   0.492471   0.203776\n",
       "max     2.408689   1.346043   1.171287"
      ]
     },
     "execution_count": 85,
     "metadata": {},
     "output_type": "execute_result"
    }
   ],
   "source": [
    "# df_stock = yf.Ticker('^GSPC').history(start='2004-01-1', interval='1mo').iloc[::12, :]\n",
    "# df_bond = yf.Ticker('AGG').history(start='2004-01-01', interval='1mo').iloc[::12, :]\n",
    "# df_comm = yf.Ticker('^SPGSCI').history(start='2004-01-01', interval='1mo').iloc[::12, :]\n",
    "df_stock = yf.Ticker('AAPL').history(start='1990-01-01', interval='1mo').iloc[::12, :]\n",
    "df_bond = yf.Ticker('MSFT').history(start='1990-01-01', interval='1mo').iloc[::12, :]\n",
    "df_comm = yf.Ticker('WMT').history(start='1990-01-01', interval='1mo').iloc[::12, :]\n",
    "df_portfolio = pd.DataFrame({\n",
    "    'Stock': df_stock.Close.pct_change(),\n",
    "    'Bond': df_bond.Close.pct_change(), \n",
    "    'Commodity': df_comm.Close.pct_change()}, index=df_stock.index).dropna()\n",
    "df_portfolio.describe()"
   ]
  },
  {
   "cell_type": "code",
   "execution_count": 86,
   "metadata": {},
   "outputs": [],
   "source": [
    "RISK_FREE = 0.05\n",
    "\n",
    "def shrp(w):\n",
    "    R = np.matmul(df_portfolio.to_numpy(), w)\n",
    "    return (R.mean()-0.05)/R.std()"
   ]
  },
  {
   "cell_type": "code",
   "execution_count": 87,
   "metadata": {},
   "outputs": [
    {
     "name": "stdout",
     "output_type": "stream",
     "text": [
      "0.6813289883351005 [0.33105908 0.66894092 0.        ]\n"
     ]
    }
   ],
   "source": [
    "import numpy as np\n",
    "\n",
    "w = np.array([1/3, 1/3, 1/3])\n",
    "epochs = 10000\n",
    "learning_rate = 0.001\n",
    "h = 0.0000001\n",
    "max_score = 0\n",
    "max_w = []\n",
    "\n",
    "for _ in range(epochs):\n",
    "    s = shrp(w)\n",
    "    grad = np.zeros(len(w))\n",
    "    for i, w_i in enumerate(w):\n",
    "        w_l = w.copy()\n",
    "        w_r = w.copy()\n",
    "        w_l[i] = w_i - h\n",
    "        w_l /= w_l.sum()\n",
    "        w_r[i] = w_i + h\n",
    "        w_r /= w_r.sum()\n",
    "        grad[i] = (shrp(w_r)-shrp(w_l))/(2*h)\n",
    "    w += learning_rate*grad\n",
    "    w /= w.sum()\n",
    "    w[w < 0] = 0\n",
    "    w /= w.sum()\n",
    "    if shrp(w) > max_score:\n",
    "        max_w = w\n",
    "        max_score = shrp(w)\n",
    "np.set_printoptions(suppress=True)\n",
    "print(max_score, max_w)"
   ]
  },
  {
   "cell_type": "code",
   "execution_count": 88,
   "metadata": {},
   "outputs": [
    {
     "name": "stdout",
     "output_type": "stream",
     "text": [
      "Maximum value: 0.6813289593355375\n",
      "Values of x, y, z at maximum: 0.3308720109462439 0.669127989053756 4.119968255444917e-17\n"
     ]
    }
   ],
   "source": [
    "import numpy as np\n",
    "from scipy.optimize import minimize\n",
    "\n",
    "# Define the function to be optimized\n",
    "def func(x):\n",
    "    return -shrp(x)\n",
    "\n",
    "# Initial guess\n",
    "x0 = [1/3, 1/3, 1/3]\n",
    "\n",
    "# Define bounds for x, y, and z (if needed)\n",
    "bounds = [(0, 1), (0, 1), (0, 1)]\n",
    "\n",
    "# Minimize the negative of the function to find the maximum\n",
    "result = minimize(func, x0, bounds=bounds, constraints={'type': 'eq', 'fun': lambda x: sum(x)-1})\n",
    "\n",
    "# The result object contains the maximum value and the corresponding values of x, y, and z\n",
    "max_value = -result.fun\n",
    "max_x, max_y, max_z = result.x\n",
    "\n",
    "print(\"Maximum value:\", max_value)\n",
    "print(\"Values of x, y, z at maximum:\", max_x, max_y, max_z)"
   ]
  }
 ],
 "metadata": {
  "kernelspec": {
   "display_name": "Python 3",
   "language": "python",
   "name": "python3"
  },
  "language_info": {
   "codemirror_mode": {
    "name": "ipython",
    "version": 3
   },
   "file_extension": ".py",
   "mimetype": "text/x-python",
   "name": "python",
   "nbconvert_exporter": "python",
   "pygments_lexer": "ipython3",
   "version": "3.10.12"
  }
 },
 "nbformat": 4,
 "nbformat_minor": 2
}
