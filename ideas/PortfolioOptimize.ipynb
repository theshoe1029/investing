{
 "cells": [
  {
   "cell_type": "code",
   "execution_count": 56,
   "metadata": {},
   "outputs": [],
   "source": [
    "import numpy as np\n",
    "import pandas as pd\n",
    "from scipy.optimize import minimize\n",
    "import yfinance as yf"
   ]
  },
  {
   "cell_type": "code",
   "execution_count": 36,
   "metadata": {},
   "outputs": [],
   "source": [
    "def gen_portfolio(tickers, start, interval):\n",
    "    index = None\n",
    "    return_rates = {}\n",
    "    for tkr in tickers:\n",
    "        if interval == '1y':\n",
    "            data = yf.Ticker(tkr).history(start=start, interval='1mo').iloc[::12]\n",
    "        else:\n",
    "            data = yf.Ticker(tkr).history(start=start, interval=interval)\n",
    "        data = data.Close.pct_change().dropna()\n",
    "        index = data.index\n",
    "        return_rates[tkr] = data.to_numpy()\n",
    "    return pd.DataFrame(return_rates, index=index)"
   ]
  },
  {
   "cell_type": "code",
   "execution_count": 40,
   "metadata": {},
   "outputs": [],
   "source": [
    "pf_indices = gen_portfolio(['^GSPC', 'AGG', '^SPGSCI'], '2004-01-1', '1y')\n",
    "pf_tech = gen_portfolio(['AAPL', 'MSFT', 'AMZN'], '2000-01-01', '1y')"
   ]
  },
  {
   "cell_type": "code",
   "execution_count": 24,
   "metadata": {},
   "outputs": [],
   "source": [
    "RISK_FREE = 0.05\n",
    "\n",
    "def shrp(return_rates, w):\n",
    "    R = np.matmul(return_rates.to_numpy(), w)\n",
    "    return (R.mean()-0.05)/R.std()"
   ]
  },
  {
   "cell_type": "code",
   "execution_count": 54,
   "metadata": {},
   "outputs": [],
   "source": [
    "def numerical_gradient(w, i, h):\n",
    "    w_new = w.copy()\n",
    "    w_new[i] = w[i]+h\n",
    "    return w_new/w_new.sum()\n",
    "\n",
    "def gradient_ascent(return_rates, epochs = 10000, learning_rate = 0.001):\n",
    "    w = np.array([1/return_rates.shape[1] for _ in range(return_rates.shape[1])])\n",
    "    h = h = 0.0000001\n",
    "    max_score = 0\n",
    "    max_w = []\n",
    "\n",
    "    for _ in range(epochs):\n",
    "        grad = np.zeros(len(w))\n",
    "        for i in range(len(w)):\n",
    "            w_l = numerical_gradient(w, i, -h)\n",
    "            w_r = numerical_gradient(w, i, h)\n",
    "            grad[i] = (shrp(return_rates, w_r)-shrp(return_rates, w_l))/(2*h)\n",
    "        w += learning_rate*grad\n",
    "        w /= w.sum()\n",
    "        w[w < 0] = 0\n",
    "        w /= w.sum()\n",
    "        score = shrp(return_rates, w)\n",
    "        if score > max_score:\n",
    "            max_w = w\n",
    "            max_score = score\n",
    "\n",
    "    print(max_score)\n",
    "    return max_w"
   ]
  },
  {
   "cell_type": "code",
   "execution_count": 55,
   "metadata": {},
   "outputs": [
    {
     "name": "stdout",
     "output_type": "stream",
     "text": [
      "0.25190443568076165\n",
      "[1. 0. 0.]\n",
      "0.6587758769633942\n",
      "[0.489355 0.       0.510645]\n"
     ]
    }
   ],
   "source": [
    "print(gradient_ascent(pf_indices))\n",
    "print(gradient_ascent(pf_tech))"
   ]
  },
  {
   "cell_type": "code",
   "execution_count": 63,
   "metadata": {},
   "outputs": [],
   "source": [
    "def optimize_shrp(return_rates):\n",
    "    w0 = [1/return_rates.shape[1] for _ in range(return_rates.shape[1])]\n",
    "    bounds = [(0, 1) for _ in range(len(w0))]\n",
    "    result = minimize(lambda w: -shrp(return_rates, w), w0, bounds=bounds, constraints={'type': 'eq', 'fun': lambda x: sum(x)-1})\n",
    "    print(-result.fun)\n",
    "    return result.x"
   ]
  },
  {
   "cell_type": "code",
   "execution_count": 64,
   "metadata": {},
   "outputs": [
    {
     "name": "stdout",
     "output_type": "stream",
     "text": [
      "0.25190443568076165\n",
      "[1. 0. 0.]\n",
      "0.6587758971199779\n",
      "[0.4891966 0.        0.5108034]\n"
     ]
    }
   ],
   "source": [
    "print(optimize_shrp(pf_indices))\n",
    "print(optimize_shrp(pf_tech))"
   ]
  }
 ],
 "metadata": {
  "kernelspec": {
   "display_name": "Python 3",
   "language": "python",
   "name": "python3"
  },
  "language_info": {
   "codemirror_mode": {
    "name": "ipython",
    "version": 3
   },
   "file_extension": ".py",
   "mimetype": "text/x-python",
   "name": "python",
   "nbconvert_exporter": "python",
   "pygments_lexer": "ipython3",
   "version": "3.9.6"
  }
 },
 "nbformat": 4,
 "nbformat_minor": 2
}
