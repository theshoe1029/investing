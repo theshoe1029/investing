{
 "cells": [
  {
   "cell_type": "code",
   "execution_count": 326,
   "metadata": {},
   "outputs": [],
   "source": [
    "import pandas as pd\n",
    "import yfinance as yf"
   ]
  },
  {
   "cell_type": "code",
   "execution_count": 327,
   "metadata": {},
   "outputs": [
    {
     "data": {
      "text/html": [
       "<div>\n",
       "<style scoped>\n",
       "    .dataframe tbody tr th:only-of-type {\n",
       "        vertical-align: middle;\n",
       "    }\n",
       "\n",
       "    .dataframe tbody tr th {\n",
       "        vertical-align: top;\n",
       "    }\n",
       "\n",
       "    .dataframe thead th {\n",
       "        text-align: right;\n",
       "    }\n",
       "</style>\n",
       "<table border=\"1\" class=\"dataframe\">\n",
       "  <thead>\n",
       "    <tr style=\"text-align: right;\">\n",
       "      <th></th>\n",
       "      <th>Stock</th>\n",
       "      <th>Bond</th>\n",
       "      <th>Commodity</th>\n",
       "    </tr>\n",
       "  </thead>\n",
       "  <tbody>\n",
       "    <tr>\n",
       "      <th>count</th>\n",
       "      <td>9.000000</td>\n",
       "      <td>9.000000</td>\n",
       "      <td>9.000000</td>\n",
       "    </tr>\n",
       "    <tr>\n",
       "      <th>mean</th>\n",
       "      <td>0.287344</td>\n",
       "      <td>0.337017</td>\n",
       "      <td>0.729309</td>\n",
       "    </tr>\n",
       "    <tr>\n",
       "      <th>std</th>\n",
       "      <td>0.361400</td>\n",
       "      <td>0.265049</td>\n",
       "      <td>1.695106</td>\n",
       "    </tr>\n",
       "    <tr>\n",
       "      <th>min</th>\n",
       "      <td>-0.169657</td>\n",
       "      <td>-0.195665</td>\n",
       "      <td>-0.445234</td>\n",
       "    </tr>\n",
       "    <tr>\n",
       "      <th>25%</th>\n",
       "      <td>0.009011</td>\n",
       "      <td>0.205736</td>\n",
       "      <td>-0.060904</td>\n",
       "    </tr>\n",
       "    <tr>\n",
       "      <th>50%</th>\n",
       "      <td>0.285125</td>\n",
       "      <td>0.377062</td>\n",
       "      <td>0.180447</td>\n",
       "    </tr>\n",
       "    <tr>\n",
       "      <th>75%</th>\n",
       "      <td>0.401915</td>\n",
       "      <td>0.502420</td>\n",
       "      <td>0.406383</td>\n",
       "    </tr>\n",
       "    <tr>\n",
       "      <th>max</th>\n",
       "      <td>0.887530</td>\n",
       "      <td>0.654190</td>\n",
       "      <td>5.098729</td>\n",
       "    </tr>\n",
       "  </tbody>\n",
       "</table>\n",
       "</div>"
      ],
      "text/plain": [
       "          Stock      Bond  Commodity\n",
       "count  9.000000  9.000000   9.000000\n",
       "mean   0.287344  0.337017   0.729309\n",
       "std    0.361400  0.265049   1.695106\n",
       "min   -0.169657 -0.195665  -0.445234\n",
       "25%    0.009011  0.205736  -0.060904\n",
       "50%    0.285125  0.377062   0.180447\n",
       "75%    0.401915  0.502420   0.406383\n",
       "max    0.887530  0.654190   5.098729"
      ]
     },
     "execution_count": 327,
     "metadata": {},
     "output_type": "execute_result"
    }
   ],
   "source": [
    "# df_stock = yf.Ticker('^GSPC').history(start='2004-01-1', interval='1mo').iloc[::12, :]\n",
    "# df_bond = yf.Ticker('AGG').history(start='2004-01-01', interval='1mo').iloc[::12, :]\n",
    "# df_comm = yf.Ticker('^SPGSCI').history(start='2004-01-01', interval='1mo').iloc[::12, :]\n",
    "df_stock = yf.Ticker('AAPL').history(start='2015-01-01', interval='1mo').iloc[::12, :]\n",
    "df_bond = yf.Ticker('MSFT').history(start='2015-01-01', interval='1mo').iloc[::12, :]\n",
    "df_comm = yf.Ticker('TSLA').history(start='2015-01-01', interval='1mo').iloc[::12, :]\n",
    "df_portfolio = pd.DataFrame({\n",
    "    'Stock': df_stock.Close.pct_change(),\n",
    "    'Bond': df_bond.Close.pct_change(), \n",
    "    'Commodity': df_comm.Close.pct_change()}, index=df_stock.index).dropna()\n",
    "df_portfolio.describe()"
   ]
  },
  {
   "cell_type": "markdown",
   "metadata": {},
   "source": [
    "$$\n",
    "\\frac{\\partial}{\\partial A} \\left( \\frac{A}{\\sqrt{B - A^2}} \\right) = \\frac{B}{(B - A^2)^{3/2}}\n",
    "$$\n",
    "$$\n",
    "\\frac{\\partial}{\\partial B} \\left( \\frac{A}{\\sqrt{B - A^2}} \\right) = -\\frac{A}{2 \\sqrt{B - A^2}}\n",
    "$$\n",
    "$$\n",
    "\\frac{\\partial}{\\partial R_i} \\frac{1}{T} \\sum_{i=1}^{T} R_i^2 = \\frac{1}{T} \\sum_{i=1}^{T} \\frac{\\partial}{\\partial R_i} R_i^2 = \\frac{2}{T} \\sum_{i=1}^{T} R_i = 2E[R]\n",
    "$$"
   ]
  },
  {
   "cell_type": "code",
   "execution_count": 335,
   "metadata": {},
   "outputs": [
    {
     "name": "stdout",
     "output_type": "stream",
     "text": [
      "0.6991263911586268 [0.33333333 0.33333333 0.33333333]\n"
     ]
    }
   ],
   "source": [
    "import numpy as np\n",
    "\n",
    "w = np.array([1/3, 1/3, 1/3])\n",
    "max_score = 0\n",
    "max_w = []\n",
    "\n",
    "for _ in range(10000):\n",
    "    R = np.matmul(df_portfolio.to_numpy(), w)\n",
    "    A = R.mean()\n",
    "    B = np.power(R, 2).mean()\n",
    "    S_denom = B-np.power(A, 2)\n",
    "    dS_dA = B/np.power(S_denom, 3/2)\n",
    "    dA_dw = (df_portfolio*w).mean().to_numpy()\n",
    "    dS_dB = A/(-2*np.sqrt(S_denom))\n",
    "    dB_dw = np.array([2*(df_portfolio.iloc[:, i].to_numpy()*R).mean() for i in range(df_portfolio.shape[1])])\n",
    "    dB_dR = 2*A\n",
    "    #grad = (dS_dA*dA_dw)+(dS_dB*dB_dw)\n",
    "    grad = (dS_dA+dS_dB*dB_dR*R).sum()\n",
    "    w += 0.0001*grad\n",
    "    if any(v < 0 for v in w):\n",
    "        break\n",
    "    w /= w.sum()\n",
    "    score = R.mean()/R.std()\n",
    "    if score > max_score:\n",
    "        max_w = w\n",
    "        max_score = score\n",
    "np.set_printoptions(suppress=True)\n",
    "print(max_score, max_w)"
   ]
  },
  {
   "cell_type": "code",
   "execution_count": 329,
   "metadata": {},
   "outputs": [
    {
     "name": "stdout",
     "output_type": "stream",
     "text": [
      "Maximum value: 1.3551885985740708\n",
      "Values of x, y, z at maximum: 0.0 0.9839258647704936 0.01607413522950679 1.0000000000000004\n"
     ]
    }
   ],
   "source": [
    "import numpy as np\n",
    "from scipy.optimize import minimize\n",
    "\n",
    "# Define the function to be optimized\n",
    "def func(x):\n",
    "    numerator = np.matmul(df_portfolio, x).mean()\n",
    "    denominator = np.sqrt(np.power(np.matmul(df_portfolio, x), 2).mean() - numerator**2)\n",
    "    return -numerator / denominator  # Negative because we're finding the maximum\n",
    "\n",
    "# Initial guess\n",
    "x0 = [1/3, 1/3, 1/3]\n",
    "\n",
    "# Define bounds for x, y, and z (if needed)\n",
    "bounds = [(0, 1), (0, 1), (0, 1)]\n",
    "\n",
    "# Minimize the negative of the function to find the maximum\n",
    "result = minimize(func, x0, bounds=bounds, constraints={'type': 'eq', 'fun': lambda x: sum(x)-1})\n",
    "\n",
    "# The result object contains the maximum value and the corresponding values of x, y, and z\n",
    "max_value = -result.fun\n",
    "max_x, max_y, max_z = result.x\n",
    "\n",
    "print(\"Maximum value:\", max_value)\n",
    "print(\"Values of x, y, z at maximum:\", max_x, max_y, max_z, sum([max_x, max_y, max_z]))"
   ]
  }
 ],
 "metadata": {
  "kernelspec": {
   "display_name": "Python 3",
   "language": "python",
   "name": "python3"
  },
  "language_info": {
   "codemirror_mode": {
    "name": "ipython",
    "version": 3
   },
   "file_extension": ".py",
   "mimetype": "text/x-python",
   "name": "python",
   "nbconvert_exporter": "python",
   "pygments_lexer": "ipython3",
   "version": "3.10.12"
  }
 },
 "nbformat": 4,
 "nbformat_minor": 2
}
