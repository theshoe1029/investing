{
 "cells": [
  {
   "cell_type": "code",
   "execution_count": 343,
   "metadata": {},
   "outputs": [],
   "source": [
    "import numpy as np\n",
    "import pandas as pd\n",
    "import yfinance as yf"
   ]
  },
  {
   "cell_type": "code",
   "execution_count": 344,
   "metadata": {},
   "outputs": [],
   "source": [
    "TAX_RATE = 0.2\n",
    "RISK_FREE_RETURN = 0.025\n",
    "\n",
    "def get_return_rate(df, shift):\n",
    "    return np.power(1+((df-df.shift(shift))/df.shift(shift)), 1/shift)-1\n",
    "\n",
    "pce = pd.read_csv('../data/PCEPI.csv', index_col='DATE')\n",
    "pce = pce.iloc[::12, :].PCEPI.pct_change()\n",
    "pce.index = pce.index.astype('datetime64[ns]')\n",
    "pce.index.name = 'Date'\n",
    "\n",
    "def adjust_for_inflation(df, close_col, rate_col):\n",
    "    df_inf = df.join(pce)\n",
    "    data = [df_inf.iloc[0][close_col]]\n",
    "    for i in range(1, df_inf.shape[0]):\n",
    "        data.append(data[i-1]*(1+df_inf.iloc[i][rate_col])*(1-df_inf.iloc[i].PCEPI))\n",
    "    return pd.Series(data, index=df_inf.index)\n",
    "\n",
    "def tax_returns(close, frequencies):\n",
    "    data = {}\n",
    "    for freq in frequencies:\n",
    "        gain = close-close.shift(freq)\n",
    "        r_tax = np.where(gain > 0, (gain*(1-TAX_RATE)), gain)/close.shift(freq)\n",
    "        data[f'{freq}Y'] = np.power(1+r_tax, 1/freq)-1\n",
    "    return pd.DataFrame(data, index=close.index)\n",
    "\n",
    "def get_returns(df, frequencies=[1, 5, 10, 20]):\n",
    "    return pd.DataFrame({f'{freq}Y': get_return_rate(df, freq) for freq in frequencies}, index=df.index)\n",
    "\n",
    "def sharpe_ratio(returns):\n",
    "    return (returns.mean()-RISK_FREE_RETURN)/returns.std()\n",
    "\n",
    "def get_performance(pf, alloc, close_col, rate_col, verbose=False):\n",
    "    pf_returns = get_returns(pf[0][close_col])*alloc[0]\n",
    "    for i in range(1, len(pf)):\n",
    "        pf_returns += get_returns(pf[i][close_col])*alloc[i]\n",
    "    if verbose:\n",
    "        print('Returns with no inflation')\n",
    "        print(pf_returns.describe())\n",
    "\n",
    "    inflation_adjusted = [adjust_for_inflation(pf[0], close_col, rate_col)]\n",
    "    pf_returns = get_returns(inflation_adjusted[0])*alloc[0]\n",
    "    for i in range(1, len(pf)):\n",
    "        inflation_adjusted.append(adjust_for_inflation(pf[i], close_col, rate_col))\n",
    "        pf_returns += get_returns(inflation_adjusted[i])*alloc[i]\n",
    "    if verbose:\n",
    "        print('Returns adjusted for inflation')\n",
    "        print(pf_returns.describe())\n",
    "\n",
    "    taxed_returns = [tax_returns(inflation_adjusted[0], [10, 20])]\n",
    "    pf_returns = taxed_returns[0]*alloc[0]\n",
    "    for i in range(1, len(pf)):\n",
    "        taxed_returns.append(tax_returns(inflation_adjusted[i], [10, 20]))\n",
    "        pf_returns += taxed_returns[i]*alloc[i]\n",
    "    if verbose:\n",
    "        print('Returns adjusted for inflation and taxes')\n",
    "        print(pf_returns.describe())\n",
    "\n",
    "    print(f'Sharpe ratio\\n{sharpe_ratio(pf_returns)}')\n"
   ]
  },
  {
   "cell_type": "code",
   "execution_count": 345,
   "metadata": {},
   "outputs": [
    {
     "name": "stdout",
     "output_type": "stream",
     "text": [
      "Returns with no inflation\n",
      "              1Y         5Y        10Y        20Y\n",
      "count  43.000000  39.000000  34.000000  24.000000\n",
      "mean    0.074737   0.076253   0.079425   0.078148\n",
      "std     0.068168   0.037440   0.028742   0.019555\n",
      "min    -0.029200   0.021019   0.034769   0.045494\n",
      "25%     0.028800   0.048788   0.057916   0.063070\n",
      "50%     0.063000   0.072715   0.076047   0.074963\n",
      "75%     0.097000   0.098126   0.103232   0.096482\n",
      "max     0.326000   0.184277   0.140963   0.106107\n",
      "Returns adjusted for inflation\n",
      "              1Y         5Y        10Y        20Y\n",
      "count  43.000000  39.000000  34.000000  24.000000\n",
      "mean    0.039436   0.043044   0.046847   0.047412\n",
      "std     0.064013   0.032239   0.018699   0.012375\n",
      "min    -0.080814  -0.053359   0.020378   0.026512\n",
      "25%     0.007254   0.021628   0.033181   0.039997\n",
      "50%     0.038691   0.045184   0.044814   0.046152\n",
      "75%     0.071274   0.059059   0.058128   0.055657\n",
      "max     0.234110   0.130901   0.094228   0.072044\n",
      "Returns adjusted for inflation and taxes\n",
      "             10Y        20Y\n",
      "count  34.000000  24.000000\n",
      "mean    0.039056   0.040798\n",
      "std     0.016098   0.011204\n",
      "min     0.016587   0.022158\n",
      "25%     0.027277   0.034033\n",
      "50%     0.037155   0.039553\n",
      "75%     0.048618   0.048194\n",
      "max     0.080485   0.063352\n",
      "Sharpe ratio\n",
      "10Y    0.873170\n",
      "20Y    1.410034\n",
      "dtype: float64\n"
     ]
    }
   ],
   "source": [
    "df_bond = pd.read_csv('../data/bonds.csv', index_col='Year')\n",
    "df_bond.index = pd.to_datetime(df_bond.index.astype(str)+'-01-01')\n",
    "df_bond['Return'] = df_bond['Return'].str.rstrip('%').astype(float)/100\n",
    "close = [100]\n",
    "for i in range(1, df_bond.shape[0]):\n",
    "    close.append(close[i-1]*(1+df_bond.iloc[i-1].Return))\n",
    "df_bond['Close'] = close\n",
    "df_bond.index.name = 'Date'\n",
    "get_performance([df_bond], [1], 'Close', 'Return', verbose=True)"
   ]
  },
  {
   "cell_type": "code",
   "execution_count": 346,
   "metadata": {},
   "outputs": [
    {
     "name": "stdout",
     "output_type": "stream",
     "text": [
      "Sharpe ratio\n",
      "10Y   -0.399474\n",
      "20Y   -0.272366\n",
      "dtype: float64\n"
     ]
    }
   ],
   "source": [
    "import yfinance as yf\n",
    "df_com = yf.Ticker('^SPGSCI').history(start='1985-01-01', interval='1mo')\n",
    "df_com = df_com.iloc[::12, :]\n",
    "df_com.index = df_com.index.tz_localize(None)\n",
    "df_com['Return'] = df_com.Close.pct_change()\n",
    "get_performance([df_com], [1], 'Close', 'Return')"
   ]
  },
  {
   "cell_type": "code",
   "execution_count": 347,
   "metadata": {},
   "outputs": [
    {
     "name": "stdout",
     "output_type": "stream",
     "text": [
      "Sharpe ratio\n",
      "10Y    0.530893\n",
      "20Y    1.059661\n",
      "dtype: float64\n"
     ]
    },
    {
     "name": "stdout",
     "output_type": "stream",
     "text": [
      "Sharpe ratio\n",
      "10Y    0.462903\n",
      "20Y    1.234065\n",
      "dtype: float64\n",
      "Sharpe ratio\n",
      "10Y    0.372240\n",
      "20Y    1.010257\n",
      "dtype: float64\n"
     ]
    }
   ],
   "source": [
    "sp500 = yf.Ticker('^GSPC').history(start='1985-01-1', interval='1mo')\n",
    "sp500 = sp500.iloc[::12, :]\n",
    "sp500['Return'] = sp500.Close.pct_change()\n",
    "sp500.index = sp500.index.tz_localize(None)\n",
    "\n",
    "get_performance([sp500], [1], 'Close', 'Return')\n",
    "get_performance([sp500, df_bond], [3/5, 2/5], 'Close', 'Return')\n",
    "get_performance([sp500, df_bond, df_com], [1/3, 1/3, 1/3], 'Close', 'Return')"
   ]
  }
 ],
 "metadata": {
  "kernelspec": {
   "display_name": "Python 3",
   "language": "python",
   "name": "python3"
  },
  "language_info": {
   "codemirror_mode": {
    "name": "ipython",
    "version": 3
   },
   "file_extension": ".py",
   "mimetype": "text/x-python",
   "name": "python",
   "nbconvert_exporter": "python",
   "pygments_lexer": "ipython3",
   "version": "3.9.6"
  }
 },
 "nbformat": 4,
 "nbformat_minor": 2
}
