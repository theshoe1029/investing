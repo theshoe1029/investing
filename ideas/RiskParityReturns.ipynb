{
 "cells": [
  {
   "cell_type": "code",
   "execution_count": 21,
   "metadata": {},
   "outputs": [],
   "source": [
    "import numpy as np\n",
    "import pandas as pd\n",
    "import yfinance as yf"
   ]
  },
  {
   "cell_type": "code",
   "execution_count": null,
   "metadata": {},
   "outputs": [],
   "source": [
    "def get_return_rate(df, shift):\n",
    "    return np.power(df/df.shift(shift), (1/shift))-np.ones(df.shape[0])\n",
    "\n",
    "pce = pd.read_csv('../data/PCEPI.csv', index_col='DATE')\n",
    "pce = pce.iloc[::12, :].PCEPI.pct_change()\n",
    "pce.index.name = 'Date'\n",
    "\n",
    "def adjust_for_inflation(close_df, close_col, return_df, return_col):\n",
    "    df_inf = pd.merge(close_df, return_df, left_index=True, right_index=True).join(pce)\n",
    "    data = [df_inf.iloc[0][close_col]]\n",
    "    for idx, v in df_inf[1:].iterrows():\n",
    "        i = len(data)\n",
    "        data.append(data[i-1]*(1+v[return_col])*(1-v.PCEPI))\n",
    "    return pd.Series(data, index=df_inf.index)\n",
    "\n",
    "def tax_returns(returns, frequencies):\n",
    "    data = {}\n",
    "    for freq in frequencies:\n",
    "        r = (returns-returns.shift(freq))\n",
    "        r_tax = r*0.2\n",
    "        total_r = (returns-r_tax).clip(lower=returns)\n",
    "        data[f'{freq}Y'] = get_return_rate(total_r, freq)\n",
    "    return pd.DataFrame(data, index=returns.index)"
   ]
  },
  {
   "cell_type": "code",
   "execution_count": 19,
   "metadata": {},
   "outputs": [
    {
     "name": "stdout",
     "output_type": "stream",
     "text": [
      "       Total Return\n",
      "count     44.000000\n",
      "mean       0.075020\n",
      "std        0.067397\n",
      "min       -0.029200\n",
      "25%        0.029400\n",
      "50%        0.064200\n",
      "75%        0.096750\n",
      "max        0.326000\n"
     ]
    }
   ],
   "source": [
    "df_bond = pd.read_csv('../data/bonds.csv', index_col='Year')\n",
    "df_bond['Total Return'] = df_bond['Total Return'].str.rstrip('%').astype(float)/100\n",
    "df_bond.index.name = 'Date'\n",
    "print(df_bond.describe())"
   ]
  },
  {
   "cell_type": "code",
   "execution_count": 20,
   "metadata": {},
   "outputs": [
    {
     "name": "stdout",
     "output_type": "stream",
     "text": [
      "count    39.000000\n",
      "mean      0.053392\n",
      "std       0.236162\n",
      "min      -0.447385\n",
      "25%      -0.070433\n",
      "50%       0.006524\n",
      "75%       0.135794\n",
      "max       0.526531\n",
      "Name: Close, dtype: float64\n"
     ]
    }
   ],
   "source": [
    "import yfinance as yf\n",
    "df_com = yf.Ticker('^SPGSCI').history(start='1985-01-01', interval='1mo')\n",
    "df_com = df_com.iloc[::12, :].Close.pct_change()\n",
    "print(df_com.describe())"
   ]
  }
 ],
 "metadata": {
  "kernelspec": {
   "display_name": "Python 3",
   "language": "python",
   "name": "python3"
  },
  "language_info": {
   "codemirror_mode": {
    "name": "ipython",
    "version": 3
   },
   "file_extension": ".py",
   "mimetype": "text/x-python",
   "name": "python",
   "nbconvert_exporter": "python",
   "pygments_lexer": "ipython3",
   "version": "3.10.12"
  }
 },
 "nbformat": 4,
 "nbformat_minor": 2
}
