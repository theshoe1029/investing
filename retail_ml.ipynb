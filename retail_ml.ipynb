{
 "cells": [
  {
   "cell_type": "markdown",
   "metadata": {},
   "source": [
    "### Discounting Amazon Cash Flows with ML\n",
    "\n",
    "In this notebook I will try to predict Amazon's cash flow using machine learning. Edgar only provides data since 2009 meaning a single company will have at most 56 quarterly reports. Since this is not enough data to train a model, I will also train using data from 26 major retail companies. Amazon has operated at <10% net margin over the last 3 years so I've selected retail companies that also were <10% net margin in the last reported period with the exception of Ebay.\n",
    "\n",
    "Most of the companies in the list are \"big box\" retailers that rely on high volume at low net margins with the best examples being Walmart(WMT) and Coscto(COST). The data for these companies should be a good approximation for Amazon since most of Amazon's revenue is from online retail at the lowest possible prices."
   ]
  },
  {
   "cell_type": "code",
   "execution_count": 91,
   "metadata": {},
   "outputs": [],
   "source": [
    "RETAIL_TICKERS = ['amzn', 'wmt', 'cost', 'cvs', 'tgt', 'kr', 'dltr', 'dg', 'cpng', 'bby', 'aci', 'bj',\n",
    "                  'musa', 'gps', 'w', 'ebay', 'aeo', 'm', 'anf', 'kss', 'go', 'psmt', 'cwh', 'woof']"
   ]
  },
  {
   "cell_type": "code",
   "execution_count": 92,
   "metadata": {},
   "outputs": [],
   "source": [
    "import edgar\n",
    "import matplotlib.pyplot as plt\n",
    "import numpy as np\n",
    "import pandas as pd\n",
    "import tensorflow as tf\n",
    "\n",
    "pd.set_option('display.float_format', lambda x: '%.2f' % x)"
   ]
  },
  {
   "cell_type": "code",
   "execution_count": 93,
   "metadata": {},
   "outputs": [],
   "source": [
    "retail_df = pd.DataFrame()\n",
    "for tkr in RETAIL_TICKERS:\n",
    "    df = edgar.get_company_facts(tkr).dropna(subset=['Revenue', 'COGS', 'Income'], axis=1).fillna(0)\n",
    "\n",
    "    for y in list(filter(lambda x: 'Q' not in x, df.columns)):\n",
    "        for q in range(1, 5):\n",
    "            qtr_str = f\"{y}Q{q}\"\n",
    "            if qtr_str in df.columns and q < 4:\n",
    "                df[y] -= df[qtr_str]\n",
    "            elif q == 4:\n",
    "                df[qtr_str] = df[y]\n",
    "                df.drop(y, axis=1, inplace=True)\n",
    "    scale = {k: 1000000 for k in df.index}\n",
    "    scale['EPS'] = 1\n",
    "    df = df.div(scale, axis=0)    \n",
    "    df.loc['Gross Profit'] = df.loc['Revenue']-df.loc['COGS']\n",
    "    df.loc['Ticker'] = tkr\n",
    "    if df.shape[1] >= 17:\n",
    "        retail_df = pd.concat([retail_df, df.sort_index(axis=1).iloc[:,-17:]], axis=1)\n",
    "retail_df = retail_df.drop(['Shares', 'EPS', 'Operating Expenses', 'SG&A', 'Other Income Loss']).transpose()"
   ]
  },
  {
   "cell_type": "code",
   "execution_count": 94,
   "metadata": {},
   "outputs": [],
   "source": [
    "val_tkr = ['wmt', 'dg', 'm', 'psmt']\n",
    "test_tkr = ['amzn', 'w']\n",
    "\n",
    "train_df = retail_df.loc[~retail_df['Ticker'].isin(val_tkr+test_tkr)].drop('Ticker', axis=1)\n",
    "val_df = retail_df.loc[retail_df['Ticker'].isin(val_tkr)].drop('Ticker', axis=1)\n",
    "test_df = retail_df.loc[retail_df['Ticker'].isin(test_tkr)].drop('Ticker', axis=1)\n",
    "\n",
    "train_mean = train_df.mean()\n",
    "train_std = train_df.std()\n",
    "\n",
    "train_df = (train_df - train_mean) / train_std\n",
    "val_df = (val_df - train_mean) / train_std\n",
    "test_df = (test_df - train_mean) / train_std"
   ]
  },
  {
   "cell_type": "code",
   "execution_count": 95,
   "metadata": {},
   "outputs": [],
   "source": [
    "INPUT_WIDTH = 16\n",
    "LABEL_WIDTH = 1"
   ]
  },
  {
   "cell_type": "code",
   "execution_count": 96,
   "metadata": {},
   "outputs": [],
   "source": [
    "def split_window(features):\n",
    "  input_slice = slice(0, INPUT_WIDTH)\n",
    "  labels_slice = slice(0, LABEL_WIDTH)\n",
    "  inputs = features[:, input_slice, :]\n",
    "  labels = features[:, labels_slice, :]\n",
    "  if ['Income'] is not None:\n",
    "    labels = tf.stack(\n",
    "        [labels[:, :, {name: i for i, name in enumerate(retail_df.columns)}[name]] for name in ['Income']],\n",
    "        axis=-1)\n",
    "\n",
    "  # Slicing doesn't preserve static shape information, so set the shapes\n",
    "  # manually. This way the `tf.data.Datasets` are easier to inspect.\n",
    "  inputs.set_shape([None, INPUT_WIDTH, None])\n",
    "  labels.set_shape([None, LABEL_WIDTH, None])\n",
    "\n",
    "  return inputs, labels"
   ]
  },
  {
   "cell_type": "code",
   "execution_count": 97,
   "metadata": {},
   "outputs": [],
   "source": [
    "def make_dataset(data):\n",
    "   data = np.array(data, dtype=np.float32)\n",
    "   ds = tf.keras.utils.timeseries_dataset_from_array(\n",
    "      data=data,\n",
    "      targets=None,\n",
    "      sequence_length=INPUT_WIDTH+1,\n",
    "      sequence_stride=1,\n",
    "      shuffle=True,\n",
    "      batch_size=8,)\n",
    "   return ds.map(split_window)"
   ]
  },
  {
   "cell_type": "code",
   "execution_count": 98,
   "metadata": {},
   "outputs": [
    {
     "name": "stdout",
     "output_type": "stream",
     "text": [
      "Epoch 1/100\n",
      "256/256 [==============================] - 1s 2ms/step - loss: 0.8151 - mean_absolute_error: 0.3871 - val_loss: 2.2013 - val_mean_absolute_error: 0.8480\n",
      "Epoch 2/100\n",
      "256/256 [==============================] - 0s 1ms/step - loss: 0.5417 - mean_absolute_error: 0.2927 - val_loss: 1.9519 - val_mean_absolute_error: 0.7532\n",
      "Epoch 3/100\n",
      "256/256 [==============================] - 0s 1ms/step - loss: 0.4129 - mean_absolute_error: 0.2487 - val_loss: 1.9415 - val_mean_absolute_error: 0.7697\n",
      "Epoch 4/100\n",
      "256/256 [==============================] - 0s 1ms/step - loss: 0.3399 - mean_absolute_error: 0.2665 - val_loss: 1.3649 - val_mean_absolute_error: 0.7218\n",
      "Epoch 5/100\n",
      "256/256 [==============================] - 0s 1ms/step - loss: 0.2311 - mean_absolute_error: 0.2331 - val_loss: 1.3924 - val_mean_absolute_error: 0.7033\n",
      "Epoch 6/100\n",
      "256/256 [==============================] - 0s 1ms/step - loss: 0.1676 - mean_absolute_error: 0.2135 - val_loss: 1.4430 - val_mean_absolute_error: 0.7603\n",
      "Epoch 7/100\n",
      "256/256 [==============================] - 0s 1ms/step - loss: 0.1159 - mean_absolute_error: 0.2168 - val_loss: 1.3258 - val_mean_absolute_error: 0.6877\n",
      "Epoch 8/100\n",
      "256/256 [==============================] - 0s 1ms/step - loss: 0.0676 - mean_absolute_error: 0.1713 - val_loss: 1.4074 - val_mean_absolute_error: 0.7306\n",
      "Epoch 9/100\n",
      "256/256 [==============================] - 0s 1ms/step - loss: 0.0343 - mean_absolute_error: 0.1321 - val_loss: 1.2783 - val_mean_absolute_error: 0.7053\n",
      "Epoch 10/100\n",
      "256/256 [==============================] - 0s 1ms/step - loss: 0.0225 - mean_absolute_error: 0.1089 - val_loss: 1.4613 - val_mean_absolute_error: 0.7705\n",
      "Epoch 11/100\n",
      "256/256 [==============================] - 0s 1ms/step - loss: 0.0257 - mean_absolute_error: 0.1174 - val_loss: 1.4451 - val_mean_absolute_error: 0.7924\n",
      "Epoch 12/100\n",
      "256/256 [==============================] - 0s 1ms/step - loss: 0.0288 - mean_absolute_error: 0.1153 - val_loss: 1.5942 - val_mean_absolute_error: 0.8111\n",
      "Epoch 13/100\n",
      "256/256 [==============================] - 0s 1ms/step - loss: 0.0373 - mean_absolute_error: 0.1230 - val_loss: 1.2606 - val_mean_absolute_error: 0.7099\n",
      "Epoch 14/100\n",
      "256/256 [==============================] - 0s 1ms/step - loss: 0.0727 - mean_absolute_error: 0.1494 - val_loss: 1.3654 - val_mean_absolute_error: 0.7373\n",
      "Epoch 15/100\n",
      "256/256 [==============================] - 0s 1ms/step - loss: 0.0738 - mean_absolute_error: 0.1612 - val_loss: 1.4730 - val_mean_absolute_error: 0.7697\n",
      "Epoch 16/100\n",
      "256/256 [==============================] - 0s 1ms/step - loss: 0.0337 - mean_absolute_error: 0.1197 - val_loss: 1.3793 - val_mean_absolute_error: 0.7878\n",
      "Epoch 17/100\n",
      "256/256 [==============================] - 0s 1ms/step - loss: 0.0299 - mean_absolute_error: 0.1136 - val_loss: 1.1472 - val_mean_absolute_error: 0.6303\n",
      "Epoch 18/100\n",
      "256/256 [==============================] - 0s 1ms/step - loss: 0.0304 - mean_absolute_error: 0.1119 - val_loss: 1.1076 - val_mean_absolute_error: 0.5882\n",
      "Epoch 19/100\n",
      "256/256 [==============================] - 0s 1ms/step - loss: 0.0419 - mean_absolute_error: 0.1284 - val_loss: 1.2489 - val_mean_absolute_error: 0.6862\n",
      "Epoch 20/100\n",
      "256/256 [==============================] - 0s 1ms/step - loss: 0.0360 - mean_absolute_error: 0.1122 - val_loss: 1.1733 - val_mean_absolute_error: 0.6247\n",
      "Epoch 21/100\n",
      "256/256 [==============================] - 0s 1ms/step - loss: 0.0241 - mean_absolute_error: 0.1037 - val_loss: 1.1607 - val_mean_absolute_error: 0.6380\n",
      "Epoch 22/100\n",
      "256/256 [==============================] - 0s 1ms/step - loss: 0.0299 - mean_absolute_error: 0.1041 - val_loss: 1.0741 - val_mean_absolute_error: 0.6115\n",
      "Epoch 23/100\n",
      "256/256 [==============================] - 0s 1ms/step - loss: 0.0308 - mean_absolute_error: 0.0987 - val_loss: 1.1799 - val_mean_absolute_error: 0.6299\n",
      "Epoch 24/100\n",
      "256/256 [==============================] - 0s 1ms/step - loss: 0.0470 - mean_absolute_error: 0.1195 - val_loss: 1.1815 - val_mean_absolute_error: 0.6456\n",
      "Epoch 25/100\n",
      "256/256 [==============================] - 0s 1ms/step - loss: 0.0497 - mean_absolute_error: 0.1170 - val_loss: 1.2426 - val_mean_absolute_error: 0.6166\n",
      "Epoch 26/100\n",
      "256/256 [==============================] - 0s 1ms/step - loss: 0.0391 - mean_absolute_error: 0.1074 - val_loss: 1.1602 - val_mean_absolute_error: 0.6623\n",
      "Epoch 27/100\n",
      "256/256 [==============================] - 0s 1ms/step - loss: 0.0611 - mean_absolute_error: 0.1348 - val_loss: 1.2046 - val_mean_absolute_error: 0.6936\n"
     ]
    },
    {
     "data": {
      "text/plain": [
       "<Axes: >"
      ]
     },
     "execution_count": 98,
     "metadata": {},
     "output_type": "execute_result"
    },
    {
     "data": {
      "image/png": "[encoded data removed]",
      "text/plain": [
       "<Figure size 640x480 with 1 Axes>"
      ]
     },
     "metadata": {},
     "output_type": "display_data"
    }
   ],
   "source": [
    "model = tf.keras.Sequential([\n",
    "    # Shape: (time, features) => (time*features)\n",
    "    tf.keras.layers.Flatten(),\n",
    "    tf.keras.layers.Dense(units=32, activation='relu'),\n",
    "    tf.keras.layers.Dense(units=32, activation='relu'),\n",
    "    tf.keras.layers.Dense(units=1),\n",
    "    # Add back the time dimension.\n",
    "    # Shape: (outputs) => (1, outputs)\n",
    "    tf.keras.layers.Reshape([1, -1]),\n",
    "])\n",
    "early_stopping = tf.keras.callbacks.EarlyStopping(monitor='val_loss', patience=5, mode='min')\n",
    "\n",
    "model.compile(loss=tf.keras.losses.MeanSquaredError(),\n",
    "              optimizer=tf.keras.optimizers.Adam(),\n",
    "              metrics=[tf.keras.metrics.MeanAbsoluteError()])\n",
    "\n",
    "history = model.fit(make_dataset(train_df), epochs=100, \n",
    "                    validation_data=make_dataset(val_df), callbacks=[early_stopping])\n",
    "pd.DataFrame({'loss': history.history['loss'], 'val_loss': history.history['val_loss']}).plot()"
   ]
  },
  {
   "cell_type": "code",
   "execution_count": 99,
   "metadata": {},
   "outputs": [
    {
     "ename": "InvalidIndexError",
     "evalue": "(slice(None, None, None), slice(0, 16, None), slice(None, None, None))",
     "output_type": "error",
     "traceback": [
      "\u001b[0;31m---------------------------------------------------------------------------\u001b[0m",
      "\u001b[0;31mTypeError\u001b[0m                                 Traceback (most recent call last)",
      "File \u001b[0;32m~/.local/lib/python3.8/site-packages/pandas/core/indexes/base.py:3653\u001b[0m, in \u001b[0;36mIndex.get_loc\u001b[0;34m(self, key)\u001b[0m\n\u001b[1;32m   3652\u001b[0m \u001b[38;5;28;01mtry\u001b[39;00m:\n\u001b[0;32m-> 3653\u001b[0m     \u001b[38;5;28;01mreturn\u001b[39;00m \u001b[38;5;28;43mself\u001b[39;49m\u001b[38;5;241;43m.\u001b[39;49m\u001b[43m_engine\u001b[49m\u001b[38;5;241;43m.\u001b[39;49m\u001b[43mget_loc\u001b[49m\u001b[43m(\u001b[49m\u001b[43mcasted_key\u001b[49m\u001b[43m)\u001b[49m\n\u001b[1;32m   3654\u001b[0m \u001b[38;5;28;01mexcept\u001b[39;00m \u001b[38;5;167;01mKeyError\u001b[39;00m \u001b[38;5;28;01mas\u001b[39;00m err:\n",
      "File \u001b[0;32m~/.local/lib/python3.8/site-packages/pandas/_libs/index.pyx:147\u001b[0m, in \u001b[0;36mpandas._libs.index.IndexEngine.get_loc\u001b[0;34m()\u001b[0m\n",
      "File \u001b[0;32m~/.local/lib/python3.8/site-packages/pandas/_libs/index.pyx:153\u001b[0m, in \u001b[0;36mpandas._libs.index.IndexEngine.get_loc\u001b[0;34m()\u001b[0m\n",
      "\u001b[0;31mTypeError\u001b[0m: '(slice(None, None, None), slice(0, 16, None), slice(None, None, None))' is an invalid key",
      "\nDuring handling of the above exception, another exception occurred:\n",
      "\u001b[0;31mInvalidIndexError\u001b[0m                         Traceback (most recent call last)",
      "Cell \u001b[0;32mIn[99], line 1\u001b[0m\n\u001b[0;32m----> 1\u001b[0m \u001b[38;5;28mprint\u001b[39m(\u001b[43msplit_window\u001b[49m\u001b[43m(\u001b[49m\u001b[43mtest_df\u001b[49m\u001b[43m)\u001b[49m\u001b[38;5;241m.\u001b[39mshape)\n\u001b[1;32m      2\u001b[0m model\u001b[38;5;241m.\u001b[39mpredict(np\u001b[38;5;241m.\u001b[39marray(test_df, dtype\u001b[38;5;241m=\u001b[39mnp\u001b[38;5;241m.\u001b[39mfloat32))\n",
      "Cell \u001b[0;32mIn[96], line 4\u001b[0m, in \u001b[0;36msplit_window\u001b[0;34m(features)\u001b[0m\n\u001b[1;32m      2\u001b[0m input_slice \u001b[38;5;241m=\u001b[39m \u001b[38;5;28mslice\u001b[39m(\u001b[38;5;241m0\u001b[39m, INPUT_WIDTH)\n\u001b[1;32m      3\u001b[0m labels_slice \u001b[38;5;241m=\u001b[39m \u001b[38;5;28mslice\u001b[39m(\u001b[38;5;241m0\u001b[39m, LABEL_WIDTH)\n\u001b[0;32m----> 4\u001b[0m inputs \u001b[38;5;241m=\u001b[39m \u001b[43mfeatures\u001b[49m\u001b[43m[\u001b[49m\u001b[43m:\u001b[49m\u001b[43m,\u001b[49m\u001b[43m \u001b[49m\u001b[43minput_slice\u001b[49m\u001b[43m,\u001b[49m\u001b[43m \u001b[49m\u001b[43m:\u001b[49m\u001b[43m]\u001b[49m\n\u001b[1;32m      5\u001b[0m labels \u001b[38;5;241m=\u001b[39m features[:, labels_slice, :]\n\u001b[1;32m      6\u001b[0m \u001b[38;5;28;01mif\u001b[39;00m [\u001b[38;5;124m'\u001b[39m\u001b[38;5;124mIncome\u001b[39m\u001b[38;5;124m'\u001b[39m] \u001b[38;5;129;01mis\u001b[39;00m \u001b[38;5;129;01mnot\u001b[39;00m \u001b[38;5;28;01mNone\u001b[39;00m:\n",
      "File \u001b[0;32m~/.local/lib/python3.8/site-packages/pandas/core/frame.py:3761\u001b[0m, in \u001b[0;36mDataFrame.__getitem__\u001b[0;34m(self, key)\u001b[0m\n\u001b[1;32m   3759\u001b[0m \u001b[38;5;28;01mif\u001b[39;00m \u001b[38;5;28mself\u001b[39m\u001b[38;5;241m.\u001b[39mcolumns\u001b[38;5;241m.\u001b[39mnlevels \u001b[38;5;241m>\u001b[39m \u001b[38;5;241m1\u001b[39m:\n\u001b[1;32m   3760\u001b[0m     \u001b[38;5;28;01mreturn\u001b[39;00m \u001b[38;5;28mself\u001b[39m\u001b[38;5;241m.\u001b[39m_getitem_multilevel(key)\n\u001b[0;32m-> 3761\u001b[0m indexer \u001b[38;5;241m=\u001b[39m \u001b[38;5;28;43mself\u001b[39;49m\u001b[38;5;241;43m.\u001b[39;49m\u001b[43mcolumns\u001b[49m\u001b[38;5;241;43m.\u001b[39;49m\u001b[43mget_loc\u001b[49m\u001b[43m(\u001b[49m\u001b[43mkey\u001b[49m\u001b[43m)\u001b[49m\n\u001b[1;32m   3762\u001b[0m \u001b[38;5;28;01mif\u001b[39;00m is_integer(indexer):\n\u001b[1;32m   3763\u001b[0m     indexer \u001b[38;5;241m=\u001b[39m [indexer]\n",
      "File \u001b[0;32m~/.local/lib/python3.8/site-packages/pandas/core/indexes/base.py:3660\u001b[0m, in \u001b[0;36mIndex.get_loc\u001b[0;34m(self, key)\u001b[0m\n\u001b[1;32m   3655\u001b[0m     \u001b[38;5;28;01mraise\u001b[39;00m \u001b[38;5;167;01mKeyError\u001b[39;00m(key) \u001b[38;5;28;01mfrom\u001b[39;00m \u001b[38;5;21;01merr\u001b[39;00m\n\u001b[1;32m   3656\u001b[0m \u001b[38;5;28;01mexcept\u001b[39;00m \u001b[38;5;167;01mTypeError\u001b[39;00m:\n\u001b[1;32m   3657\u001b[0m     \u001b[38;5;66;03m# If we have a listlike key, _check_indexing_error will raise\u001b[39;00m\n\u001b[1;32m   3658\u001b[0m     \u001b[38;5;66;03m#  InvalidIndexError. Otherwise we fall through and re-raise\u001b[39;00m\n\u001b[1;32m   3659\u001b[0m     \u001b[38;5;66;03m#  the TypeError.\u001b[39;00m\n\u001b[0;32m-> 3660\u001b[0m     \u001b[38;5;28;43mself\u001b[39;49m\u001b[38;5;241;43m.\u001b[39;49m\u001b[43m_check_indexing_error\u001b[49m\u001b[43m(\u001b[49m\u001b[43mkey\u001b[49m\u001b[43m)\u001b[49m\n\u001b[1;32m   3661\u001b[0m     \u001b[38;5;28;01mraise\u001b[39;00m\n",
      "File \u001b[0;32m~/.local/lib/python3.8/site-packages/pandas/core/indexes/base.py:5737\u001b[0m, in \u001b[0;36mIndex._check_indexing_error\u001b[0;34m(self, key)\u001b[0m\n\u001b[1;32m   5733\u001b[0m \u001b[38;5;28;01mdef\u001b[39;00m \u001b[38;5;21m_check_indexing_error\u001b[39m(\u001b[38;5;28mself\u001b[39m, key):\n\u001b[1;32m   5734\u001b[0m     \u001b[38;5;28;01mif\u001b[39;00m \u001b[38;5;129;01mnot\u001b[39;00m is_scalar(key):\n\u001b[1;32m   5735\u001b[0m         \u001b[38;5;66;03m# if key is not a scalar, directly raise an error (the code below\u001b[39;00m\n\u001b[1;32m   5736\u001b[0m         \u001b[38;5;66;03m# would convert to numpy arrays and raise later any way) - GH29926\u001b[39;00m\n\u001b[0;32m-> 5737\u001b[0m         \u001b[38;5;28;01mraise\u001b[39;00m InvalidIndexError(key)\n",
      "\u001b[0;31mInvalidIndexError\u001b[0m: (slice(None, None, None), slice(0, 16, None), slice(None, None, None))"
     ]
    }
   ],
   "source": [
    "print(split_window(test_df).shape)\n",
    "model.predict(np.array(test_df, dtype=np.float32))"
   ]
  }
 ],
 "metadata": {
  "kernelspec": {
   "display_name": "Python 3",
   "language": "python",
   "name": "python3"
  },
  "language_info": {
   "codemirror_mode": {
    "name": "ipython",
    "version": 3
   },
   "file_extension": ".py",
   "mimetype": "text/x-python",
   "name": "python",
   "nbconvert_exporter": "python",
   "pygments_lexer": "ipython3",
   "version": "3.8.0"
  }
 },
 "nbformat": 4,
 "nbformat_minor": 2
}
