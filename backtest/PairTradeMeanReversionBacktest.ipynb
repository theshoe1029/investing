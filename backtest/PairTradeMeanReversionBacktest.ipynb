{
  "cells": [
    {
      "cell_type": "code",
      "execution_count": 14,
      "metadata": {},
      "outputs": [],
      "source": [
        "import os\n",
        "import sys\n",
        "nb_dir = os.path.split(os.getcwd())[0]\n",
        "if nb_dir not in sys.path:\n",
        "    sys.path.append(nb_dir)"
      ]
    },
    {
      "cell_type": "code",
      "execution_count": 15,
      "metadata": {
        "id": "JokFg-shjSuf"
      },
      "outputs": [],
      "source": [
        "from backtesting import Backtest\n",
        "from strategies import PairTradeMeanReversion\n",
        "import numpy as np\n",
        "import pandas as pd\n",
        "import numpy as np\n",
        "import yfinance as yf\n",
        "np.int = int"
      ]
    },
    {
      "cell_type": "code",
      "execution_count": 28,
      "metadata": {},
      "outputs": [],
      "source": [
        "def create_pair(tkr_1: str, tkr_2: str) -> pd.DataFrame:\n",
        "    df_1 = yf.Ticker(tkr_1).history(start='2014-01-01', end=None)\n",
        "    df_2 = yf.Ticker(tkr_2).history(start='2014-01-01', end=None)\n",
        "    df_1.index = pd.DatetimeIndex(df_1.index)\n",
        "    df_2.index = pd.DatetimeIndex(df_2.index)\n",
        "\n",
        "    pair_df = df_1.join(df_2, rsuffix='_y').dropna()\n",
        "    pair_df.index = pair_df.index.tz_localize(None).astype('datetime64[ns]')\n",
        "    return pair_df.reset_index()"
      ]
    },
    {
      "cell_type": "code",
      "execution_count": 27,
      "metadata": {},
      "outputs": [],
      "source": [
        "from backtesting import Strategy\n",
        "import pandas as pd\n",
        "\n",
        "import common.util as util\n",
        "\n",
        "class PairTradeMeanReversion(Strategy):\n",
        "    rolling_days = 30\n",
        "\n",
        "    def init(self):\n",
        "        self.ratio = util.norm_pairs(self.data, 'Close_x', 'Close_y').dropna().copy()\n",
        "\n",
        "    def next(self):\n",
        "        print(self)"
      ]
    },
    {
      "cell_type": "code",
      "execution_count": 29,
      "metadata": {
        "colab": {
          "base_uri": "https://localhost:8080/"
        },
        "id": "aVhAO5vXjZ2T",
        "outputId": "957edf00-4961-474f-b49d-f57543790089"
      },
      "outputs": [
        {
          "name": "stderr",
          "output_type": "stream",
          "text": [
            "/home/adam/.local/lib/python3.10/site-packages/yfinance/utils.py:775: FutureWarning: The 'unit' keyword in TimedeltaIndex construction is deprecated and will be removed in a future version. Use pd.to_timedelta instead.\n",
            "  df.index += _pd.TimedeltaIndex(dst_error_hours, 'h')\n",
            "/home/adam/.local/lib/python3.10/site-packages/yfinance/utils.py:775: FutureWarning: The 'unit' keyword in TimedeltaIndex construction is deprecated and will be removed in a future version. Use pd.to_timedelta instead.\n",
            "  df.index += _pd.TimedeltaIndex(dst_error_hours, 'h')\n",
            "/tmp/ipykernel_63019/986526621.py:3: UserWarning: Data index is not datetime. Assuming simple periods, but `pd.DateTimeIndex` is advised.\n",
            "  rma_bt = Backtest(df, PairTradeMeanReversion,\n"
          ]
        },
        {
          "name": "stdout",
          "output_type": "stream",
          "text": [
            "        Date       Open       High        Low      Close     Volume  \\\n",
            "0 2014-01-02  17.376400  17.418615  17.261950  17.296659  234684800   \n",
            "1 2014-01-03  17.288217  17.314483  16.899524  16.916723  392467600   \n",
            "2 2014-01-06  16.806336  17.098714  16.685944  17.008968  412610800   \n",
            "3 2014-01-07  17.021169  17.072452  16.821038  16.887331  317209200   \n",
            "4 2014-01-08  16.848867  17.059943  16.845116  16.994276  258529600   \n",
            "\n",
            "   Dividends  Stock Splits     Open_y     High_y      Low_y    Close_y  \\\n",
            "0        0.0           0.0  31.392763  31.434790  31.182637  31.233068   \n",
            "1        0.0           0.0  31.266680  31.283491  30.762377  31.022934   \n",
            "2        0.0           0.0  30.972503  31.006124  30.350533  30.367344   \n",
            "3        0.0           0.0  30.535442  30.669922  30.434579  30.602680   \n",
            "4        0.0           0.0  30.258082  30.375752  29.905073  30.056360   \n",
            "\n",
            "   Volume_y  Dividends_y  Stock Splits_y  \n",
            "0  30632200          0.0             0.0  \n",
            "1  31134800          0.0             0.0  \n",
            "2  43603700          0.0             0.0  \n",
            "3  35802800          0.0             0.0  \n",
            "4  59971700          0.0             0.0  \n"
          ]
        },
        {
          "ename": "AttributeError",
          "evalue": "Column 'shape' not in data",
          "output_type": "error",
          "traceback": [
            "\u001b[0;31m---------------------------------------------------------------------------\u001b[0m",
            "\u001b[0;31mAttributeError\u001b[0m                            Traceback (most recent call last)",
            "Cell \u001b[0;32mIn[29], line 6\u001b[0m\n\u001b[1;32m      2\u001b[0m \u001b[38;5;28mprint\u001b[39m(df\u001b[38;5;241m.\u001b[39mhead())\n\u001b[1;32m      3\u001b[0m rma_bt \u001b[38;5;241m=\u001b[39m Backtest(df, PairTradeMeanReversion,\n\u001b[1;32m      4\u001b[0m                   cash\u001b[38;5;241m=\u001b[39m\u001b[38;5;241m100000\u001b[39m, commission\u001b[38;5;241m=\u001b[39m\u001b[38;5;241m.002\u001b[39m,\n\u001b[1;32m      5\u001b[0m                   exclusive_orders\u001b[38;5;241m=\u001b[39m\u001b[38;5;28;01mTrue\u001b[39;00m)\n\u001b[0;32m----> 6\u001b[0m \u001b[43mrma_bt\u001b[49m\u001b[38;5;241;43m.\u001b[39;49m\u001b[43mrun\u001b[49m\u001b[43m(\u001b[49m\u001b[43m)\u001b[49m\n",
            "File \u001b[0;32m~/.local/lib/python3.10/site-packages/backtesting/backtesting.py:1139\u001b[0m, in \u001b[0;36mBacktest.run\u001b[0;34m(self, **kwargs)\u001b[0m\n\u001b[1;32m   1136\u001b[0m broker: _Broker \u001b[38;5;241m=\u001b[39m \u001b[38;5;28mself\u001b[39m\u001b[38;5;241m.\u001b[39m_broker(data\u001b[38;5;241m=\u001b[39mdata)\n\u001b[1;32m   1137\u001b[0m strategy: Strategy \u001b[38;5;241m=\u001b[39m \u001b[38;5;28mself\u001b[39m\u001b[38;5;241m.\u001b[39m_strategy(broker, data, kwargs)\n\u001b[0;32m-> 1139\u001b[0m \u001b[43mstrategy\u001b[49m\u001b[38;5;241;43m.\u001b[39;49m\u001b[43minit\u001b[49m\u001b[43m(\u001b[49m\u001b[43m)\u001b[49m\n\u001b[1;32m   1140\u001b[0m data\u001b[38;5;241m.\u001b[39m_update()  \u001b[38;5;66;03m# Strategy.init might have changed/added to data.df\u001b[39;00m\n\u001b[1;32m   1142\u001b[0m \u001b[38;5;66;03m# Indicators used in Strategy.next()\u001b[39;00m\n",
            "Cell \u001b[0;32mIn[27], line 10\u001b[0m, in \u001b[0;36mPairTradeMeanReversion.init\u001b[0;34m(self)\u001b[0m\n\u001b[1;32m      9\u001b[0m \u001b[38;5;28;01mdef\u001b[39;00m \u001b[38;5;21minit\u001b[39m(\u001b[38;5;28mself\u001b[39m):\n\u001b[0;32m---> 10\u001b[0m     \u001b[38;5;28mself\u001b[39m\u001b[38;5;241m.\u001b[39mratio \u001b[38;5;241m=\u001b[39m \u001b[43mutil\u001b[49m\u001b[38;5;241;43m.\u001b[39;49m\u001b[43mnorm_pairs\u001b[49m\u001b[43m(\u001b[49m\u001b[38;5;28;43mself\u001b[39;49m\u001b[38;5;241;43m.\u001b[39;49m\u001b[43mdata\u001b[49m\u001b[43m,\u001b[49m\u001b[43m \u001b[49m\u001b[38;5;124;43m'\u001b[39;49m\u001b[38;5;124;43mClose_x\u001b[39;49m\u001b[38;5;124;43m'\u001b[39;49m\u001b[43m,\u001b[49m\u001b[43m \u001b[49m\u001b[38;5;124;43m'\u001b[39;49m\u001b[38;5;124;43mClose_y\u001b[39;49m\u001b[38;5;124;43m'\u001b[39;49m\u001b[43m)\u001b[49m\u001b[38;5;241m.\u001b[39mdropna()\u001b[38;5;241m.\u001b[39mcopy()\n",
            "File \u001b[0;32m~/investing/common/util.py:9\u001b[0m, in \u001b[0;36mnorm_pairs\u001b[0;34m(df, col_1, col_2, days)\u001b[0m\n\u001b[1;32m      8\u001b[0m \u001b[38;5;28;01mdef\u001b[39;00m \u001b[38;5;21mnorm_pairs\u001b[39m(df: pd\u001b[38;5;241m.\u001b[39mDataFrame, col_1: \u001b[38;5;28mstr\u001b[39m, col_2: \u001b[38;5;28mstr\u001b[39m, days: \u001b[38;5;28mint\u001b[39m \u001b[38;5;241m=\u001b[39m \u001b[38;5;241m30\u001b[39m) \u001b[38;5;241m-\u001b[39m\u001b[38;5;241m>\u001b[39m pd\u001b[38;5;241m.\u001b[39mSeries:\n\u001b[0;32m----> 9\u001b[0m     norm_x \u001b[38;5;241m=\u001b[39m \u001b[43mrolling_prod_norm\u001b[49m\u001b[43m(\u001b[49m\u001b[43mdf\u001b[49m\u001b[43m,\u001b[49m\u001b[43m \u001b[49m\u001b[43mcol_1\u001b[49m\u001b[43m,\u001b[49m\u001b[43m \u001b[49m\u001b[43mdays\u001b[49m\u001b[38;5;241;43m=\u001b[39;49m\u001b[43mdays\u001b[49m\u001b[43m)\u001b[49m\n\u001b[1;32m     10\u001b[0m     norm_y \u001b[38;5;241m=\u001b[39m rolling_prod_norm(df, col_2, days\u001b[38;5;241m=\u001b[39mdays)\n\u001b[1;32m     11\u001b[0m     \u001b[38;5;28;01mreturn\u001b[39;00m norm_x\u001b[38;5;241m/\u001b[39mnorm_y\n",
            "File \u001b[0;32m~/investing/common/util.py:5\u001b[0m, in \u001b[0;36mrolling_prod_norm\u001b[0;34m(df, col, days)\u001b[0m\n\u001b[1;32m      4\u001b[0m \u001b[38;5;28;01mdef\u001b[39;00m \u001b[38;5;21mrolling_prod_norm\u001b[39m(df: pd\u001b[38;5;241m.\u001b[39mDataFrame, col: \u001b[38;5;28mstr\u001b[39m, days: \u001b[38;5;28mint\u001b[39m \u001b[38;5;241m=\u001b[39m \u001b[38;5;241m30\u001b[39m) \u001b[38;5;241m-\u001b[39m\u001b[38;5;241m>\u001b[39m pd\u001b[38;5;241m.\u001b[39mSeries:\n\u001b[0;32m----> 5\u001b[0m     change \u001b[38;5;241m=\u001b[39m np\u001b[38;5;241m.\u001b[39mones((\u001b[38;5;241m1\u001b[39m, \u001b[43mdf\u001b[49m\u001b[38;5;241;43m.\u001b[39;49m\u001b[43mshape\u001b[49m[\u001b[38;5;241m0\u001b[39m]))\u001b[38;5;241m+\u001b[39mdf[col]\u001b[38;5;241m.\u001b[39mpct_change()\u001b[38;5;241m.\u001b[39mto_numpy()\n\u001b[1;32m      6\u001b[0m     \u001b[38;5;28;01mreturn\u001b[39;00m pd\u001b[38;5;241m.\u001b[39mSeries(change[\u001b[38;5;241m0\u001b[39m], index\u001b[38;5;241m=\u001b[39mdf\u001b[38;5;241m.\u001b[39mindex)\u001b[38;5;241m.\u001b[39mrolling(days)\u001b[38;5;241m.\u001b[39mapply(\u001b[38;5;28;01mlambda\u001b[39;00m s: np\u001b[38;5;241m.\u001b[39mprod(s))\n",
            "File \u001b[0;32m~/.local/lib/python3.10/site-packages/backtesting/_util.py:125\u001b[0m, in \u001b[0;36m_Data.__getattr__\u001b[0;34m(self, item)\u001b[0m\n\u001b[1;32m    123\u001b[0m     \u001b[38;5;28;01mreturn\u001b[39;00m \u001b[38;5;28mself\u001b[39m\u001b[38;5;241m.\u001b[39m__get_array(item)\n\u001b[1;32m    124\u001b[0m \u001b[38;5;28;01mexcept\u001b[39;00m \u001b[38;5;167;01mKeyError\u001b[39;00m:\n\u001b[0;32m--> 125\u001b[0m     \u001b[38;5;28;01mraise\u001b[39;00m \u001b[38;5;167;01mAttributeError\u001b[39;00m(\u001b[38;5;124mf\u001b[39m\u001b[38;5;124m\"\u001b[39m\u001b[38;5;124mColumn \u001b[39m\u001b[38;5;124m'\u001b[39m\u001b[38;5;132;01m{\u001b[39;00mitem\u001b[38;5;132;01m}\u001b[39;00m\u001b[38;5;124m'\u001b[39m\u001b[38;5;124m not in data\u001b[39m\u001b[38;5;124m\"\u001b[39m) \u001b[38;5;28;01mfrom\u001b[39;00m \u001b[38;5;28;01mNone\u001b[39;00m\n",
            "\u001b[0;31mAttributeError\u001b[0m: Column 'shape' not in data"
          ]
        }
      ],
      "source": [
        "df = create_pair('AAPL', 'MSFT')\n",
        "print(df.head())\n",
        "rma_bt = Backtest(df, PairTradeMeanReversion,\n",
        "                  cash=100000, commission=.002,\n",
        "                  exclusive_orders=True)\n",
        "rma_bt.run()"
      ]
    },
    {
      "cell_type": "code",
      "execution_count": null,
      "metadata": {
        "colab": {
          "base_uri": "https://localhost:8080/",
          "height": 360,
          "referenced_widgets": [
            "0a51713b43444c8b9b17fde06594682a",
            "65c46bf4381043e39f83d0462cbc038c",
            "aeb87c57470144e7a332db0727c565a9",
            "c63f8ccf366e4ec9bab6e9f3f5ca7581",
            "792c04bb835f40818f266b343c20a47a",
            "4f97a3f8c35843d9b71370c7a2d53584",
            "bc5268780bd44e1cb80882c15fb64f3f",
            "5aa7c610d31940299505f8f9560acba7",
            "e9d48ff00def474f89d71dcb99c87411",
            "886346372b4e4f3ea645df3e6a8fbf5d",
            "8489d6e0fabb43adbf489566f324f739"
          ]
        },
        "id": "RpLxcXeKLQiG",
        "outputId": "e5870aa1-7ee1-4277-fa40-26c1c1bfeab2"
      },
      "outputs": [
        {
          "name": "stderr",
          "output_type": "stream",
          "text": [
            "/Users/adamschueller/Library/Python/3.9/lib/python/site-packages/backtesting/_stats.py:122: RuntimeWarning: divide by zero encountered in scalar divide\n",
            "  s.loc['Sortino Ratio'] = np.clip((annualized_return - risk_free_rate) / (np.sqrt(np.mean(day_returns.clip(-np.inf, 0)**2)) * np.sqrt(annual_trading_days)), 0, np.inf)  # noqa: E501\n"
          ]
        }
      ],
      "source": [
        "stats, heatmap = rma_bt.optimize(rsi_period=[5, 30],\n",
        "                                 up_thresh=[10, 90],\n",
        "                                 down_thresh=[10, 90],\n",
        "                                 confirm_bars=[1, 10],\n",
        "                                 constraint=lambda p: p.up_thresh > p.down_thresh,\n",
        "                                 method='skopt',\n",
        "                                 max_tries=200,\n",
        "                                 return_heatmap=True)"
      ]
    },
    {
      "cell_type": "code",
      "execution_count": null,
      "metadata": {
        "colab": {
          "base_uri": "https://localhost:8080/"
        },
        "id": "E7v5PeQEMmfV",
        "outputId": "87adc9a2-1453-4058-aeaa-499aab8f824b"
      },
      "outputs": [
        {
          "name": "stdout",
          "output_type": "stream",
          "text": [
            "Start                     2017-08-17 04:00:00\n",
            "End                       2023-10-19 23:00:00\n",
            "Duration                   2254 days 19:00:00\n",
            "Exposure Time [%]                     0.13892\n",
            "Equity Final [$]                   10575.4228\n",
            "Equity Peak [$]                    10575.4228\n",
            "Return [%]                           5.754228\n",
            "Buy & Hold Return [%]               419.40254\n",
            "Return (Ann.) [%]                    0.909695\n",
            "Volatility (Ann.) [%]                2.633467\n",
            "Sharpe Ratio                         0.345436\n",
            "Sortino Ratio                        0.957443\n",
            "Calmar Ratio                         0.115747\n",
            "Max. Drawdown [%]                   -7.859367\n",
            "Avg. Drawdown [%]                   -3.143928\n",
            "Max. Drawdown Duration        2 days 20:00:00\n",
            "Avg. Drawdown Duration        1 days 00:00:00\n",
            "# Trades                                    2\n",
            "Win Rate [%]                             50.0\n",
            "Best Trade [%]                       5.947547\n",
            "Worst Trade [%]                     -0.145118\n",
            "Avg. Trade [%]                       2.856112\n",
            "Max. Trade Duration           3 days 01:00:00\n",
            "Avg. Trade Duration           1 days 13:00:00\n",
            "Profit Factor                       40.984217\n",
            "Expectancy [%]                       2.901215\n",
            "SQN                                  0.952388\n",
            "_strategy                 TrendReversal(rs...\n",
            "_equity_curve                             ...\n",
            "_trades                      Size  EntryBa...\n",
            "dtype: object\n",
            "rsi_period  up_thresh  down_thresh  confirm_bars\n",
            "7           31         24           6              -4.764166\n",
            "28          48         31           5              -3.343923\n",
            "30          47         30           4              -3.093585\n",
            "23          83         57           10             -3.089756\n",
            "17          58         27           7              -2.878591\n",
            "                                                      ...   \n",
            "27          58         20           6               0.575921\n",
            "23          85         25           9               0.805047\n",
            "16          85         20           9               0.936466\n",
            "26          23         15           2               0.940293\n",
            "20          57         12           2               0.952388\n",
            "Name: SQN, Length: 101, dtype: float64\n"
          ]
        },
        {
          "data": {
            "text/plain": [
              "<Axes: xlabel='rsi_period,up_thresh,down_thresh,confirm_bars'>"
            ]
          },
          "execution_count": 4,
          "metadata": {},
          "output_type": "execute_result"
        },
        {
          "data": {
            "image/png": "[encoded data removed]",
            "text/plain": [
              "<Figure size 640x480 with 1 Axes>"
            ]
          },
          "metadata": {},
          "output_type": "display_data"
        }
      ],
      "source": [
        "print(stats)\n",
        "print(heatmap.sort_values())\n",
        "heatmap.plot()"
      ]
    }
  ],
  "metadata": {
    "colab": {
      "provenance": []
    },
    "kernelspec": {
      "display_name": "Python 3",
      "name": "python3"
    },
    "language_info": {
      "codemirror_mode": {
        "name": "ipython",
        "version": 3
      },
      "file_extension": ".py",
      "mimetype": "text/x-python",
      "name": "python",
      "nbconvert_exporter": "python",
      "pygments_lexer": "ipython3",
      "version": "3.10.12"
    },
    "widgets": {
      "application/vnd.jupyter.widget-state+json": {
        "0a51713b43444c8b9b17fde06594682a": {
          "model_module": "@jupyter-widgets/controls",
          "model_module_version": "1.5.0",
          "model_name": "HBoxModel",
          "state": {
            "_dom_classes": [],
            "_model_module": "@jupyter-widgets/controls",
            "_model_module_version": "1.5.0",
            "_model_name": "HBoxModel",
            "_view_count": null,
            "_view_module": "@jupyter-widgets/controls",
            "_view_module_version": "1.5.0",
            "_view_name": "HBoxView",
            "box_style": "",
            "children": [
              "IPY_MODEL_65c46bf4381043e39f83d0462cbc038c",
              "IPY_MODEL_aeb87c57470144e7a332db0727c565a9",
              "IPY_MODEL_c63f8ccf366e4ec9bab6e9f3f5ca7581"
            ],
            "layout": "IPY_MODEL_792c04bb835f40818f266b343c20a47a"
          }
        },
        "4f97a3f8c35843d9b71370c7a2d53584": {
          "model_module": "@jupyter-widgets/base",
          "model_module_version": "1.2.0",
          "model_name": "LayoutModel",
          "state": {
            "_model_module": "@jupyter-widgets/base",
            "_model_module_version": "1.2.0",
            "_model_name": "LayoutModel",
            "_view_count": null,
            "_view_module": "@jupyter-widgets/base",
            "_view_module_version": "1.2.0",
            "_view_name": "LayoutView",
            "align_content": null,
            "align_items": null,
            "align_self": null,
            "border": null,
            "bottom": null,
            "display": null,
            "flex": null,
            "flex_flow": null,
            "grid_area": null,
            "grid_auto_columns": null,
            "grid_auto_flow": null,
            "grid_auto_rows": null,
            "grid_column": null,
            "grid_gap": null,
            "grid_row": null,
            "grid_template_areas": null,
            "grid_template_columns": null,
            "grid_template_rows": null,
            "height": null,
            "justify_content": null,
            "justify_items": null,
            "left": null,
            "margin": null,
            "max_height": null,
            "max_width": null,
            "min_height": null,
            "min_width": null,
            "object_fit": null,
            "object_position": null,
            "order": null,
            "overflow": null,
            "overflow_x": null,
            "overflow_y": null,
            "padding": null,
            "right": null,
            "top": null,
            "visibility": null,
            "width": null
          }
        },
        "5aa7c610d31940299505f8f9560acba7": {
          "model_module": "@jupyter-widgets/base",
          "model_module_version": "1.2.0",
          "model_name": "LayoutModel",
          "state": {
            "_model_module": "@jupyter-widgets/base",
            "_model_module_version": "1.2.0",
            "_model_name": "LayoutModel",
            "_view_count": null,
            "_view_module": "@jupyter-widgets/base",
            "_view_module_version": "1.2.0",
            "_view_name": "LayoutView",
            "align_content": null,
            "align_items": null,
            "align_self": null,
            "border": null,
            "bottom": null,
            "display": null,
            "flex": null,
            "flex_flow": null,
            "grid_area": null,
            "grid_auto_columns": null,
            "grid_auto_flow": null,
            "grid_auto_rows": null,
            "grid_column": null,
            "grid_gap": null,
            "grid_row": null,
            "grid_template_areas": null,
            "grid_template_columns": null,
            "grid_template_rows": null,
            "height": null,
            "justify_content": null,
            "justify_items": null,
            "left": null,
            "margin": null,
            "max_height": null,
            "max_width": null,
            "min_height": null,
            "min_width": null,
            "object_fit": null,
            "object_position": null,
            "order": null,
            "overflow": null,
            "overflow_x": null,
            "overflow_y": null,
            "padding": null,
            "right": null,
            "top": null,
            "visibility": null,
            "width": null
          }
        },
        "65c46bf4381043e39f83d0462cbc038c": {
          "model_module": "@jupyter-widgets/controls",
          "model_module_version": "1.5.0",
          "model_name": "HTMLModel",
          "state": {
            "_dom_classes": [],
            "_model_module": "@jupyter-widgets/controls",
            "_model_module_version": "1.5.0",
            "_model_name": "HTMLModel",
            "_view_count": null,
            "_view_module": "@jupyter-widgets/controls",
            "_view_module_version": "1.5.0",
            "_view_name": "HTMLView",
            "description": "",
            "description_tooltip": null,
            "layout": "IPY_MODEL_4f97a3f8c35843d9b71370c7a2d53584",
            "placeholder": "​",
            "style": "IPY_MODEL_bc5268780bd44e1cb80882c15fb64f3f",
            "value": "Backtest.optimize:  14%"
          }
        },
        "792c04bb835f40818f266b343c20a47a": {
          "model_module": "@jupyter-widgets/base",
          "model_module_version": "1.2.0",
          "model_name": "LayoutModel",
          "state": {
            "_model_module": "@jupyter-widgets/base",
            "_model_module_version": "1.2.0",
            "_model_name": "LayoutModel",
            "_view_count": null,
            "_view_module": "@jupyter-widgets/base",
            "_view_module_version": "1.2.0",
            "_view_name": "LayoutView",
            "align_content": null,
            "align_items": null,
            "align_self": null,
            "border": null,
            "bottom": null,
            "display": null,
            "flex": null,
            "flex_flow": null,
            "grid_area": null,
            "grid_auto_columns": null,
            "grid_auto_flow": null,
            "grid_auto_rows": null,
            "grid_column": null,
            "grid_gap": null,
            "grid_row": null,
            "grid_template_areas": null,
            "grid_template_columns": null,
            "grid_template_rows": null,
            "height": null,
            "justify_content": null,
            "justify_items": null,
            "left": null,
            "margin": null,
            "max_height": null,
            "max_width": null,
            "min_height": null,
            "min_width": null,
            "object_fit": null,
            "object_position": null,
            "order": null,
            "overflow": null,
            "overflow_x": null,
            "overflow_y": null,
            "padding": null,
            "right": null,
            "top": null,
            "visibility": null,
            "width": null
          }
        },
        "8489d6e0fabb43adbf489566f324f739": {
          "model_module": "@jupyter-widgets/controls",
          "model_module_version": "1.5.0",
          "model_name": "DescriptionStyleModel",
          "state": {
            "_model_module": "@jupyter-widgets/controls",
            "_model_module_version": "1.5.0",
            "_model_name": "DescriptionStyleModel",
            "_view_count": null,
            "_view_module": "@jupyter-widgets/base",
            "_view_module_version": "1.2.0",
            "_view_name": "StyleView",
            "description_width": ""
          }
        },
        "886346372b4e4f3ea645df3e6a8fbf5d": {
          "model_module": "@jupyter-widgets/base",
          "model_module_version": "1.2.0",
          "model_name": "LayoutModel",
          "state": {
            "_model_module": "@jupyter-widgets/base",
            "_model_module_version": "1.2.0",
            "_model_name": "LayoutModel",
            "_view_count": null,
            "_view_module": "@jupyter-widgets/base",
            "_view_module_version": "1.2.0",
            "_view_name": "LayoutView",
            "align_content": null,
            "align_items": null,
            "align_self": null,
            "border": null,
            "bottom": null,
            "display": null,
            "flex": null,
            "flex_flow": null,
            "grid_area": null,
            "grid_auto_columns": null,
            "grid_auto_flow": null,
            "grid_auto_rows": null,
            "grid_column": null,
            "grid_gap": null,
            "grid_row": null,
            "grid_template_areas": null,
            "grid_template_columns": null,
            "grid_template_rows": null,
            "height": null,
            "justify_content": null,
            "justify_items": null,
            "left": null,
            "margin": null,
            "max_height": null,
            "max_width": null,
            "min_height": null,
            "min_width": null,
            "object_fit": null,
            "object_position": null,
            "order": null,
            "overflow": null,
            "overflow_x": null,
            "overflow_y": null,
            "padding": null,
            "right": null,
            "top": null,
            "visibility": null,
            "width": null
          }
        },
        "aeb87c57470144e7a332db0727c565a9": {
          "model_module": "@jupyter-widgets/controls",
          "model_module_version": "1.5.0",
          "model_name": "FloatProgressModel",
          "state": {
            "_dom_classes": [],
            "_model_module": "@jupyter-widgets/controls",
            "_model_module_version": "1.5.0",
            "_model_name": "FloatProgressModel",
            "_view_count": null,
            "_view_module": "@jupyter-widgets/controls",
            "_view_module_version": "1.5.0",
            "_view_name": "ProgressView",
            "bar_style": "",
            "description": "",
            "description_tooltip": null,
            "layout": "IPY_MODEL_5aa7c610d31940299505f8f9560acba7",
            "max": 200,
            "min": 0,
            "orientation": "horizontal",
            "style": "IPY_MODEL_e9d48ff00def474f89d71dcb99c87411",
            "value": 28
          }
        },
        "bc5268780bd44e1cb80882c15fb64f3f": {
          "model_module": "@jupyter-widgets/controls",
          "model_module_version": "1.5.0",
          "model_name": "DescriptionStyleModel",
          "state": {
            "_model_module": "@jupyter-widgets/controls",
            "_model_module_version": "1.5.0",
            "_model_name": "DescriptionStyleModel",
            "_view_count": null,
            "_view_module": "@jupyter-widgets/base",
            "_view_module_version": "1.2.0",
            "_view_name": "StyleView",
            "description_width": ""
          }
        },
        "c63f8ccf366e4ec9bab6e9f3f5ca7581": {
          "model_module": "@jupyter-widgets/controls",
          "model_module_version": "1.5.0",
          "model_name": "HTMLModel",
          "state": {
            "_dom_classes": [],
            "_model_module": "@jupyter-widgets/controls",
            "_model_module_version": "1.5.0",
            "_model_name": "HTMLModel",
            "_view_count": null,
            "_view_module": "@jupyter-widgets/controls",
            "_view_module_version": "1.5.0",
            "_view_name": "HTMLView",
            "description": "",
            "description_tooltip": null,
            "layout": "IPY_MODEL_886346372b4e4f3ea645df3e6a8fbf5d",
            "placeholder": "​",
            "style": "IPY_MODEL_8489d6e0fabb43adbf489566f324f739",
            "value": " 28/200 [00:55&lt;04:21,  1.52s/it]"
          }
        },
        "e9d48ff00def474f89d71dcb99c87411": {
          "model_module": "@jupyter-widgets/controls",
          "model_module_version": "1.5.0",
          "model_name": "ProgressStyleModel",
          "state": {
            "_model_module": "@jupyter-widgets/controls",
            "_model_module_version": "1.5.0",
            "_model_name": "ProgressStyleModel",
            "_view_count": null,
            "_view_module": "@jupyter-widgets/base",
            "_view_module_version": "1.2.0",
            "_view_name": "StyleView",
            "bar_color": null,
            "description_width": ""
          }
        }
      }
    }
  },
  "nbformat": 4,
  "nbformat_minor": 0
}
